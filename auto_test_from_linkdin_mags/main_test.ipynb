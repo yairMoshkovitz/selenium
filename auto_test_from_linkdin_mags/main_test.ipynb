{
 "cells": [
  {
   "cell_type": "code",
   "execution_count": 5,
   "metadata": {},
   "outputs": [],
   "source": [
    "from driver_func import login_and,get_msg_text,see_last_msgs_and,get_users,write_post\n",
    "\n"
   ]
  },
  {
   "cell_type": "code",
   "execution_count": 2,
   "metadata": {},
   "outputs": [
    {
     "name": "stdout",
     "output_type": "stream",
     "text": [
      "Yehudit Moshkovitz\n",
      "Shimon Moyal\n",
      "Rachel F.\n",
      "Assaf Shtilman\n",
      "bad!\n",
      "bad!\n",
      "bad!\n",
      "bad!\n",
      "bad!\n",
      "bad!\n",
      "bad!\n"
     ]
    },
    {
     "data": {
      "text/plain": [
       "['Yehudit Moshkovitz', 'Shimon Moyal', 'Rachel F.', 'Assaf Shtilman']"
      ]
     },
     "execution_count": 2,
     "metadata": {},
     "output_type": "execute_result"
    }
   ],
   "source": [
    "\n",
    "login_and(see_last_msgs_and,get_users)"
   ]
  },
  {
   "cell_type": "code",
   "execution_count": null,
   "metadata": {},
   "outputs": [],
   "source": [
    "login_and(see_last_msgs_and,get_msg_text)\n"
   ]
  },
  {
   "cell_type": "code",
   "execution_count": 3,
   "metadata": {},
   "outputs": [
    {
     "name": "stdout",
     "output_type": "stream",
     "text": [
      "error\n",
      "error\n",
      "error\n",
      "error\n",
      "error\n",
      "error\n",
      "error\n",
      "error\n",
      "error\n",
      "error\n",
      "error\n",
      "error\n",
      "error\n",
      "error\n",
      "error\n",
      "error\n",
      "error\n",
      "error\n",
      "error\n",
      "error\n",
      "error\n",
      "error\n",
      "error\n",
      "error\n",
      "error\n",
      "error\n",
      "error\n",
      "error\n",
      "error\n",
      "error\n",
      "error\n",
      "error\n",
      "error\n",
      "error\n"
     ]
    }
   ],
   "source": [
    "login_and(write_post,\"null\")\n"
   ]
  },
  {
   "cell_type": "code",
   "execution_count": 4,
   "metadata": {},
   "outputs": [
    {
     "name": "stdout",
     "output_type": "stream",
     "text": [
      "╒════╤════════════════════╤═════════╤════════╕\n",
      "│    │ user               │   score │   time │\n",
      "╞════╪════════════════════╪═════════╪════════╡\n",
      "│  5 │ Rachel F           │       9 │     -1 │\n",
      "├────┼────────────────────┼─────────┼────────┤\n",
      "│ 11 │ Yishay Shapira     │       9 │     -1 │\n",
      "├────┼────────────────────┼─────────┼────────┤\n",
      "│  1 │ Assaf Shtilman     │       7 │     15 │\n",
      "├────┼────────────────────┼─────────┼────────┤\n",
      "│  7 │ Tal Kantor         │       7 │     15 │\n",
      "├────┼────────────────────┼─────────┼────────┤\n",
      "│  2 │ LinkedIn Learning  │       5 │     21 │\n",
      "├────┼────────────────────┼─────────┼────────┤\n",
      "│  8 │ Tzlil Noiman       │       5 │     21 │\n",
      "├────┼────────────────────┼─────────┼────────┤\n",
      "│  0 │ Ahron Cohen        │       3 │     10 │\n",
      "├────┼────────────────────┼─────────┼────────┤\n",
      "│  6 │ Shimon Moyal       │       3 │     10 │\n",
      "├────┼────────────────────┼─────────┼────────┤\n",
      "│ 12 │ Yuval Rosenthal    │       3 │     10 │\n",
      "├────┼────────────────────┼─────────┼────────┤\n",
      "│  4 │ Nitay Caspi        │      -1 │     41 │\n",
      "├────┼────────────────────┼─────────┼────────┤\n",
      "│ 10 │ Yehudit Moshkovitz │      -1 │     41 │\n",
      "├────┼────────────────────┼─────────┼────────┤\n",
      "│  3 │ Maya Blizovsky     │      -5 │     35 │\n",
      "├────┼────────────────────┼─────────┼────────┤\n",
      "│  9 │ yair elizur        │      -5 │     35 │\n",
      "╘════╧════════════════════╧═════════╧════════╛\n"
     ]
    }
   ],
   "source": [
    "# print table with the score ver 1\n",
    "from tabulate import tabulate\n",
    "import pandas as pd\n",
    "import main_func\n",
    "task = \"test2\" # overwrite task\n",
    "st_time = (20,5)\n",
    "data= main_func.test(task,st_time)\n",
    "df = pd.DataFrame(data=data[1])\n",
    "print(tabulate(df.sort_values(by=['score','time'], ascending=False), headers = 'keys', tablefmt = 'fancy_grid'))"
   ]
  },
  {
   "cell_type": "code",
   "execution_count": 5,
   "metadata": {},
   "outputs": [
    {
     "name": "stdout",
     "output_type": "stream",
     "text": [
      "╒════╤════════════════════╤══════════════════════╕\n",
      "│    │ user               │ test2                │\n",
      "╞════╪════════════════════╪══════════════════════╡\n",
      "│  0 │ Ahron Cohen        │ +---------+--------+ │\n",
      "│    │                    │ |   score |   time | │\n",
      "│    │                    │ |---------+--------| │\n",
      "│    │                    │ |       3 |     10 | │\n",
      "│    │                    │ +---------+--------+ │\n",
      "├────┼────────────────────┼──────────────────────┤\n",
      "│  1 │ Assaf Shtilman     │ +---------+--------+ │\n",
      "│    │                    │ |   score |   time | │\n",
      "│    │                    │ |---------+--------| │\n",
      "│    │                    │ |       7 |     15 | │\n",
      "│    │                    │ +---------+--------+ │\n",
      "├────┼────────────────────┼──────────────────────┤\n",
      "│  2 │ LinkedIn Learning  │ +---------+--------+ │\n",
      "│    │                    │ |   score |   time | │\n",
      "│    │                    │ |---------+--------| │\n",
      "│    │                    │ |       5 |     21 | │\n",
      "│    │                    │ +---------+--------+ │\n",
      "├────┼────────────────────┼──────────────────────┤\n",
      "│  3 │ Maya Blizovsky     │ +---------+--------+ │\n",
      "│    │                    │ |   score |   time | │\n",
      "│    │                    │ |---------+--------| │\n",
      "│    │                    │ |      -5 |     35 | │\n",
      "│    │                    │ +---------+--------+ │\n",
      "├────┼────────────────────┼──────────────────────┤\n",
      "│  4 │ Nitay Caspi        │ +---------+--------+ │\n",
      "│    │                    │ |   score |   time | │\n",
      "│    │                    │ |---------+--------| │\n",
      "│    │                    │ |      -1 |     41 | │\n",
      "│    │                    │ +---------+--------+ │\n",
      "├────┼────────────────────┼──────────────────────┤\n",
      "│  5 │ Rachel F           │ +---------+--------+ │\n",
      "│    │                    │ |   score |   time | │\n",
      "│    │                    │ |---------+--------| │\n",
      "│    │                    │ |       9 |     -1 | │\n",
      "│    │                    │ +---------+--------+ │\n",
      "├────┼────────────────────┼──────────────────────┤\n",
      "│  6 │ Shimon Moyal       │ +---------+--------+ │\n",
      "│    │                    │ |   score |   time | │\n",
      "│    │                    │ |---------+--------| │\n",
      "│    │                    │ |       3 |     10 | │\n",
      "│    │                    │ +---------+--------+ │\n",
      "├────┼────────────────────┼──────────────────────┤\n",
      "│  7 │ Tal Kantor         │ +---------+--------+ │\n",
      "│    │                    │ |   score |   time | │\n",
      "│    │                    │ |---------+--------| │\n",
      "│    │                    │ |       7 |     15 | │\n",
      "│    │                    │ +---------+--------+ │\n",
      "├────┼────────────────────┼──────────────────────┤\n",
      "│  8 │ Tzlil Noiman       │ +---------+--------+ │\n",
      "│    │                    │ |   score |   time | │\n",
      "│    │                    │ |---------+--------| │\n",
      "│    │                    │ |       5 |     21 | │\n",
      "│    │                    │ +---------+--------+ │\n",
      "├────┼────────────────────┼──────────────────────┤\n",
      "│  9 │ yair elizur        │ +---------+--------+ │\n",
      "│    │                    │ |   score |   time | │\n",
      "│    │                    │ |---------+--------| │\n",
      "│    │                    │ |      -5 |     35 | │\n",
      "│    │                    │ +---------+--------+ │\n",
      "├────┼────────────────────┼──────────────────────┤\n",
      "│ 10 │ Yehudit Moshkovitz │ +---------+--------+ │\n",
      "│    │                    │ |   score |   time | │\n",
      "│    │                    │ |---------+--------| │\n",
      "│    │                    │ |      -1 |     41 | │\n",
      "│    │                    │ +---------+--------+ │\n",
      "├────┼────────────────────┼──────────────────────┤\n",
      "│ 11 │ Yishay Shapira     │ +---------+--------+ │\n",
      "│    │                    │ |   score |   time | │\n",
      "│    │                    │ |---------+--------| │\n",
      "│    │                    │ |       9 |     -1 | │\n",
      "│    │                    │ +---------+--------+ │\n",
      "├────┼────────────────────┼──────────────────────┤\n",
      "│ 12 │ Yuval Rosenthal    │ +---------+--------+ │\n",
      "│    │                    │ |   score |   time | │\n",
      "│    │                    │ |---------+--------| │\n",
      "│    │                    │ |       3 |     10 | │\n",
      "│    │                    │ +---------+--------+ │\n",
      "╘════╧════════════════════╧══════════════════════╛\n"
     ]
    }
   ],
   "source": [
    "\n",
    "# print table with the score ver 2\n",
    "\n",
    "df = pd.DataFrame(data=data[0])\n",
    "print(tabulate(df, headers = 'keys', tablefmt = 'fancy_grid'))"
   ]
  },
  {
   "cell_type": "code",
   "execution_count": null,
   "metadata": {},
   "outputs": [],
   "source": [
    "import made_tests"
   ]
  },
  {
   "cell_type": "code",
   "execution_count": null,
   "metadata": {},
   "outputs": [],
   "source": []
  }
 ],
 "metadata": {
  "kernelspec": {
   "display_name": "Python 3",
   "language": "python",
   "name": "python3"
  },
  "language_info": {
   "codemirror_mode": {
    "name": "ipython",
    "version": 3
   },
   "file_extension": ".py",
   "mimetype": "text/x-python",
   "name": "python",
   "nbconvert_exporter": "python",
   "pygments_lexer": "ipython3",
   "version": "3.10.5"
  },
  "orig_nbformat": 4
 },
 "nbformat": 4,
 "nbformat_minor": 2
}
